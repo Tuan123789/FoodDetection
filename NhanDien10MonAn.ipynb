{
  "nbformat": 4,
  "nbformat_minor": 0,
  "metadata": {
    "colab": {
      "name": "NhaDien10MonAn.ipynb",
      "provenance": []
    },
    "kernelspec": {
      "name": "python3",
      "display_name": "Python 3"
    },
    "language_info": {
      "name": "python"
    },
    "accelerator": "GPU"
  },
  "cells": [
    {
      "cell_type": "code",
      "source": [
        "#Load dữ liệu từ drive vào các biến X_train, y_train\n",
        "from os import listdir\n",
        "from numpy import asarray,save\n",
        "from keras.preprocessing.image import load_img\n",
        "from keras.preprocessing.image import img_to_array\n",
        "folder = '/content/drive/MyDrive/AI/10MonAn/'\n",
        "photos, labels = list(),list()\n",
        "for file in listdir(folder):\n",
        "  output = 0.\n",
        "  if file.startswith('BanhCuon'):\n",
        "    output = 1.0\n",
        "  if file.startswith('BanhXeo'):\n",
        "    output = 2.0\n",
        "  if file.startswith('BoLaLot'):\n",
        "    output = 3.0\n",
        "  if file.startswith('BunBo'):\n",
        "    output = 4.0\n",
        "  if file.startswith('ComTam'):\n",
        "    output = 5.0\n",
        "  if file.startswith('Ga'):\n",
        "    output = 6.0\n",
        "  if file.startswith('MiXao'):\n",
        "    output = 7.0\n",
        "  if file.startswith('MucRiem'):\n",
        "    output = 8.0\n",
        "  if file.startswith('ThiKhoTau'):\n",
        "    output = 9.0\n",
        "  photo = load_img(folder+file,target_size=(100,100))\n",
        "  photo = img_to_array(photo)\n",
        "  photos.append(photo)\n",
        "  labels.append(output)\n",
        "photos = asarray(photos)\n",
        "labels= asarray(labels)\n",
        "print(photos.shape,labels.shape)\n",
        "save('X_train.npy',photos)\n",
        "save('y_train.npy',labels)"
      ],
      "metadata": {
        "id": "BMo2_TphysX0",
        "colab": {
          "base_uri": "https://localhost:8080/"
        },
        "outputId": "757fb5ea-d48c-45fa-fd7d-45a9f8eff736"
      },
      "execution_count": 36,
      "outputs": [
        {
          "output_type": "stream",
          "name": "stdout",
          "text": [
            "(550, 100, 100, 3) (550,)\n"
          ]
        }
      ]
    },
    {
      "cell_type": "code",
      "source": [
        "folder = '/content/drive/MyDrive/AI/10MonAnTest/'\n",
        "photos1, labels1 = list(),list()\n",
        "for file in listdir(folder):\n",
        "  output = 0.\n",
        "  if file.startswith('BanhCuon'):\n",
        "    output = 1.0\n",
        "  if file.startswith('BanhXeo'):\n",
        "    output = 2.0\n",
        "  if file.startswith('BoLaLot'):\n",
        "    output = 3.0\n",
        "  if file.startswith('BunBo'):\n",
        "    output = 4.0\n",
        "  if file.startswith('ComTam'):\n",
        "    output = 5.0\n",
        "  if file.startswith('Ga'):\n",
        "    output = 6.0\n",
        "  if file.startswith('MiXao'):\n",
        "    output = 7.0\n",
        "  if file.startswith('MucRiem'):\n",
        "    output = 8.0\n",
        "  if file.startswith('ThiKhoTau'):\n",
        "    output = 9.0\n",
        "  photo = load_img(folder+file,target_size=(100,100))\n",
        "  photo = img_to_array(photo)\n",
        "  photos1.append(photo)\n",
        "  labels1.append(output)\n",
        "photos1 = asarray(photos1)\n",
        "labels1= asarray(labels1)\n",
        "print(photos1.shape,labels1.shape)\n",
        "save('X_train.npy',photos1)\n",
        "save('y_train.npy',labels1)"
      ],
      "metadata": {
        "colab": {
          "base_uri": "https://localhost:8080/"
        },
        "id": "jJLNGvBa7cW0",
        "outputId": "b8c3e168-eced-4fa1-91ed-e9a8ed96f3e6"
      },
      "execution_count": 37,
      "outputs": [
        {
          "output_type": "stream",
          "name": "stdout",
          "text": [
            "(150, 100, 100, 3) (150,)\n"
          ]
        }
      ]
    },
    {
      "cell_type": "code",
      "execution_count": 25,
      "metadata": {
        "id": "HL8sjdQCyeKf",
        "colab": {
          "base_uri": "https://localhost:8080/",
          "height": 165
        },
        "outputId": "88a5acad-8f8d-4b6f-f691-a753b105e02f"
      },
      "outputs": [
        {
          "output_type": "error",
          "ename": "NameError",
          "evalue": "ignored",
          "traceback": [
            "\u001b[0;31m---------------------------------------------------------------------------\u001b[0m",
            "\u001b[0;31mNameError\u001b[0m                                 Traceback (most recent call last)",
            "\u001b[0;32m<ipython-input-25-b574a7c5366f>\u001b[0m in \u001b[0;36m<module>\u001b[0;34m()\u001b[0m\n\u001b[0;32m----> 1\u001b[0;31m \u001b[0mX_train\u001b[0m \u001b[0;34m=\u001b[0m \u001b[0mnp\u001b[0m\u001b[0;34m.\u001b[0m\u001b[0mzeros\u001b[0m\u001b[0;34m(\u001b[0m\u001b[0;36m600\u001b[0m\u001b[0;34m,\u001b[0m\u001b[0;36m32\u001b[0m\u001b[0;34m,\u001b[0m\u001b[0;36m32\u001b[0m\u001b[0;34m,\u001b[0m\u001b[0;36m3\u001b[0m\u001b[0;34m)\u001b[0m\u001b[0;34m\u001b[0m\u001b[0;34m\u001b[0m\u001b[0m\n\u001b[0m",
            "\u001b[0;31mNameError\u001b[0m: name 'np' is not defined"
          ]
        }
      ],
      "source": [
        "X_train = np.zeros(600,32,32,3)"
      ]
    },
    {
      "cell_type": "code",
      "source": [
        "#Chuyển kiểu dữ liệu\n",
        "photos = photos.astype('float32')\n",
        "photos1 = photos1.astype('float32')\n",
        "photos/=255\n",
        "photos1/=255\n",
        "from keras.utils import np_utils\n",
        "labels=np_utils.to_categorical(labels,10)\n",
        "labels1=np_utils.to_categorical(labels1,10)"
      ],
      "metadata": {
        "id": "ugPFD-YosU_X"
      },
      "execution_count": 38,
      "outputs": []
    },
    {
      "cell_type": "code",
      "source": [
        "photos1.shape\n"
      ],
      "metadata": {
        "colab": {
          "base_uri": "https://localhost:8080/"
        },
        "id": "4OuBLstata_2",
        "outputId": "09342a65-c125-46fe-900d-7590db76fed8"
      },
      "execution_count": 22,
      "outputs": [
        {
          "output_type": "execute_result",
          "data": {
            "text/plain": [
              "(550, 100, 100, 3)"
            ]
          },
          "metadata": {},
          "execution_count": 22
        }
      ]
    },
    {
      "cell_type": "code",
      "source": [
        "#Khởi tạo model và training\n",
        "from keras.models import Sequential\n",
        "from keras.layers import Conv2D\n",
        "from tensorflow.keras.optimizers import SGD\n",
        "from keras.layers import MaxPooling2D\n",
        "from keras.layers import Flatten\n",
        "from keras.callbacks import EarlyStopping \n",
        "from keras.layers import Dense, Activation, BatchNormalization, Dropout, LSTM\n",
        "model = Sequential()\n",
        "model.add(Conv2D(32,(3,3),activation='relu', kernel_initializer='he_uniform', padding='same', input_shape=(100, 100, 3)))\n",
        "model.add(MaxPooling2D(2,2))\n",
        "model.add(Flatten())\n",
        "model.add(Dense(128,activation='relu',kernel_initializer='he_uniform'))\n",
        "model.add(Dense(10,activation='softmax'))\n",
        "opt = SGD(lr = 0.01, momentum = 0.9)\n",
        "model.compile(optimizer=opt, loss = 'categorical_crossentropy',metrics=['accuracy'])\n",
        "history = model.fit(photos,labels,epochs=100, batch_size=32, validation_data=(photos1,labels1),verbose=1)"
      ],
      "metadata": {
        "colab": {
          "base_uri": "https://localhost:8080/"
        },
        "id": "H9MbaYuQspkO",
        "outputId": "508167a0-a84b-4fc4-f3f3-d02c86f1dc9a"
      },
      "execution_count": 34,
      "outputs": [
        {
          "output_type": "stream",
          "name": "stdout",
          "text": [
            "Epoch 1/100\n"
          ]
        },
        {
          "output_type": "stream",
          "name": "stderr",
          "text": [
            "/usr/local/lib/python3.7/dist-packages/keras/optimizer_v2/gradient_descent.py:102: UserWarning: The `lr` argument is deprecated, use `learning_rate` instead.\n",
            "  super(SGD, self).__init__(name, **kwargs)\n"
          ]
        },
        {
          "output_type": "stream",
          "name": "stdout",
          "text": [
            "18/18 [==============================] - 1s 33ms/step - loss: 5.9897 - accuracy: 0.1400 - val_loss: 2.1836 - val_accuracy: 0.1667\n",
            "Epoch 2/100\n",
            "18/18 [==============================] - 0s 24ms/step - loss: 2.0439 - accuracy: 0.2109 - val_loss: 2.0223 - val_accuracy: 0.2067\n",
            "Epoch 3/100\n",
            "18/18 [==============================] - 0s 24ms/step - loss: 1.7294 - accuracy: 0.3800 - val_loss: 1.6477 - val_accuracy: 0.4067\n",
            "Epoch 4/100\n",
            "18/18 [==============================] - 0s 23ms/step - loss: 1.3087 - accuracy: 0.5382 - val_loss: 1.7346 - val_accuracy: 0.3867\n",
            "Epoch 5/100\n",
            "18/18 [==============================] - 0s 23ms/step - loss: 0.9870 - accuracy: 0.6491 - val_loss: 1.8669 - val_accuracy: 0.3733\n",
            "Epoch 6/100\n",
            "18/18 [==============================] - 0s 24ms/step - loss: 0.5939 - accuracy: 0.8036 - val_loss: 1.3200 - val_accuracy: 0.5733\n",
            "Epoch 7/100\n",
            "18/18 [==============================] - 0s 23ms/step - loss: 0.3825 - accuracy: 0.8982 - val_loss: 1.4107 - val_accuracy: 0.5267\n",
            "Epoch 8/100\n",
            "18/18 [==============================] - 0s 24ms/step - loss: 0.1821 - accuracy: 0.9600 - val_loss: 1.8818 - val_accuracy: 0.5067\n",
            "Epoch 9/100\n",
            "18/18 [==============================] - 0s 24ms/step - loss: 0.0845 - accuracy: 0.9818 - val_loss: 1.4566 - val_accuracy: 0.5600\n",
            "Epoch 10/100\n",
            "18/18 [==============================] - 0s 24ms/step - loss: 0.0548 - accuracy: 0.9945 - val_loss: 1.5237 - val_accuracy: 0.5667\n",
            "Epoch 11/100\n",
            "18/18 [==============================] - 0s 23ms/step - loss: 0.0265 - accuracy: 1.0000 - val_loss: 1.6683 - val_accuracy: 0.5400\n",
            "Epoch 12/100\n",
            "18/18 [==============================] - 0s 24ms/step - loss: 0.0116 - accuracy: 1.0000 - val_loss: 1.5826 - val_accuracy: 0.5600\n",
            "Epoch 13/100\n",
            "18/18 [==============================] - 0s 23ms/step - loss: 0.0066 - accuracy: 1.0000 - val_loss: 1.6730 - val_accuracy: 0.5600\n",
            "Epoch 14/100\n",
            "18/18 [==============================] - 0s 24ms/step - loss: 0.0042 - accuracy: 1.0000 - val_loss: 1.6534 - val_accuracy: 0.5533\n",
            "Epoch 15/100\n",
            "18/18 [==============================] - 0s 23ms/step - loss: 0.0032 - accuracy: 1.0000 - val_loss: 1.6931 - val_accuracy: 0.5733\n",
            "Epoch 16/100\n",
            "18/18 [==============================] - 0s 23ms/step - loss: 0.0026 - accuracy: 1.0000 - val_loss: 1.7353 - val_accuracy: 0.5400\n",
            "Epoch 17/100\n",
            "18/18 [==============================] - 0s 24ms/step - loss: 0.0024 - accuracy: 1.0000 - val_loss: 1.7393 - val_accuracy: 0.5733\n",
            "Epoch 18/100\n",
            "18/18 [==============================] - 0s 23ms/step - loss: 0.0022 - accuracy: 1.0000 - val_loss: 1.7543 - val_accuracy: 0.5533\n",
            "Epoch 19/100\n",
            "18/18 [==============================] - 0s 23ms/step - loss: 0.0020 - accuracy: 1.0000 - val_loss: 1.7660 - val_accuracy: 0.5667\n",
            "Epoch 20/100\n",
            "18/18 [==============================] - 0s 24ms/step - loss: 0.0019 - accuracy: 1.0000 - val_loss: 1.7701 - val_accuracy: 0.5600\n",
            "Epoch 21/100\n",
            "18/18 [==============================] - 0s 24ms/step - loss: 0.0017 - accuracy: 1.0000 - val_loss: 1.7758 - val_accuracy: 0.5533\n",
            "Epoch 22/100\n",
            "18/18 [==============================] - 0s 23ms/step - loss: 0.0016 - accuracy: 1.0000 - val_loss: 1.7957 - val_accuracy: 0.5600\n",
            "Epoch 23/100\n",
            "18/18 [==============================] - 0s 23ms/step - loss: 0.0015 - accuracy: 1.0000 - val_loss: 1.8041 - val_accuracy: 0.5533\n",
            "Epoch 24/100\n",
            "18/18 [==============================] - 0s 24ms/step - loss: 0.0015 - accuracy: 1.0000 - val_loss: 1.8099 - val_accuracy: 0.5600\n",
            "Epoch 25/100\n",
            "18/18 [==============================] - 0s 23ms/step - loss: 0.0014 - accuracy: 1.0000 - val_loss: 1.8223 - val_accuracy: 0.5533\n",
            "Epoch 26/100\n",
            "18/18 [==============================] - 0s 23ms/step - loss: 0.0013 - accuracy: 1.0000 - val_loss: 1.8271 - val_accuracy: 0.5600\n",
            "Epoch 27/100\n",
            "18/18 [==============================] - 0s 24ms/step - loss: 0.0013 - accuracy: 1.0000 - val_loss: 1.8297 - val_accuracy: 0.5533\n",
            "Epoch 28/100\n",
            "18/18 [==============================] - 0s 24ms/step - loss: 0.0012 - accuracy: 1.0000 - val_loss: 1.8338 - val_accuracy: 0.5467\n",
            "Epoch 29/100\n",
            "18/18 [==============================] - 0s 23ms/step - loss: 0.0011 - accuracy: 1.0000 - val_loss: 1.8458 - val_accuracy: 0.5600\n",
            "Epoch 30/100\n",
            "18/18 [==============================] - 0s 23ms/step - loss: 0.0011 - accuracy: 1.0000 - val_loss: 1.8412 - val_accuracy: 0.5533\n",
            "Epoch 31/100\n",
            "18/18 [==============================] - 0s 24ms/step - loss: 0.0011 - accuracy: 1.0000 - val_loss: 1.8513 - val_accuracy: 0.5600\n",
            "Epoch 32/100\n",
            "18/18 [==============================] - 0s 23ms/step - loss: 0.0010 - accuracy: 1.0000 - val_loss: 1.8544 - val_accuracy: 0.5533\n",
            "Epoch 33/100\n",
            "18/18 [==============================] - 0s 22ms/step - loss: 9.8592e-04 - accuracy: 1.0000 - val_loss: 1.8602 - val_accuracy: 0.5600\n",
            "Epoch 34/100\n",
            "18/18 [==============================] - 0s 24ms/step - loss: 9.5336e-04 - accuracy: 1.0000 - val_loss: 1.8706 - val_accuracy: 0.5533\n",
            "Epoch 35/100\n",
            "18/18 [==============================] - 0s 23ms/step - loss: 9.1734e-04 - accuracy: 1.0000 - val_loss: 1.8750 - val_accuracy: 0.5600\n",
            "Epoch 36/100\n",
            "18/18 [==============================] - 0s 23ms/step - loss: 8.9111e-04 - accuracy: 1.0000 - val_loss: 1.8747 - val_accuracy: 0.5600\n",
            "Epoch 37/100\n",
            "18/18 [==============================] - 0s 23ms/step - loss: 8.6021e-04 - accuracy: 1.0000 - val_loss: 1.8780 - val_accuracy: 0.5600\n",
            "Epoch 38/100\n",
            "18/18 [==============================] - 0s 24ms/step - loss: 8.3432e-04 - accuracy: 1.0000 - val_loss: 1.8881 - val_accuracy: 0.5600\n",
            "Epoch 39/100\n",
            "18/18 [==============================] - 0s 23ms/step - loss: 8.1349e-04 - accuracy: 1.0000 - val_loss: 1.8895 - val_accuracy: 0.5533\n",
            "Epoch 40/100\n",
            "18/18 [==============================] - 0s 24ms/step - loss: 7.8554e-04 - accuracy: 1.0000 - val_loss: 1.8927 - val_accuracy: 0.5667\n",
            "Epoch 41/100\n",
            "18/18 [==============================] - 0s 24ms/step - loss: 7.6202e-04 - accuracy: 1.0000 - val_loss: 1.9017 - val_accuracy: 0.5600\n",
            "Epoch 42/100\n",
            "18/18 [==============================] - 0s 24ms/step - loss: 7.4716e-04 - accuracy: 1.0000 - val_loss: 1.9006 - val_accuracy: 0.5533\n",
            "Epoch 43/100\n",
            "18/18 [==============================] - 0s 24ms/step - loss: 7.2439e-04 - accuracy: 1.0000 - val_loss: 1.9110 - val_accuracy: 0.5600\n",
            "Epoch 44/100\n",
            "18/18 [==============================] - 0s 24ms/step - loss: 7.0922e-04 - accuracy: 1.0000 - val_loss: 1.9063 - val_accuracy: 0.5533\n",
            "Epoch 45/100\n",
            "18/18 [==============================] - 0s 24ms/step - loss: 6.8754e-04 - accuracy: 1.0000 - val_loss: 1.9129 - val_accuracy: 0.5600\n",
            "Epoch 46/100\n",
            "18/18 [==============================] - 0s 24ms/step - loss: 6.7407e-04 - accuracy: 1.0000 - val_loss: 1.9126 - val_accuracy: 0.5467\n",
            "Epoch 47/100\n",
            "18/18 [==============================] - 0s 23ms/step - loss: 6.5294e-04 - accuracy: 1.0000 - val_loss: 1.9171 - val_accuracy: 0.5600\n",
            "Epoch 48/100\n",
            "18/18 [==============================] - 0s 23ms/step - loss: 6.3873e-04 - accuracy: 1.0000 - val_loss: 1.9239 - val_accuracy: 0.5600\n",
            "Epoch 49/100\n",
            "18/18 [==============================] - 0s 25ms/step - loss: 6.2304e-04 - accuracy: 1.0000 - val_loss: 1.9251 - val_accuracy: 0.5600\n",
            "Epoch 50/100\n",
            "18/18 [==============================] - 0s 24ms/step - loss: 6.1220e-04 - accuracy: 1.0000 - val_loss: 1.9277 - val_accuracy: 0.5533\n",
            "Epoch 51/100\n",
            "18/18 [==============================] - 0s 23ms/step - loss: 6.0098e-04 - accuracy: 1.0000 - val_loss: 1.9320 - val_accuracy: 0.5467\n",
            "Epoch 52/100\n",
            "18/18 [==============================] - 0s 24ms/step - loss: 5.8356e-04 - accuracy: 1.0000 - val_loss: 1.9364 - val_accuracy: 0.5600\n",
            "Epoch 53/100\n",
            "18/18 [==============================] - 0s 23ms/step - loss: 5.7306e-04 - accuracy: 1.0000 - val_loss: 1.9384 - val_accuracy: 0.5533\n",
            "Epoch 54/100\n",
            "18/18 [==============================] - 0s 24ms/step - loss: 5.6010e-04 - accuracy: 1.0000 - val_loss: 1.9405 - val_accuracy: 0.5600\n",
            "Epoch 55/100\n",
            "18/18 [==============================] - 0s 24ms/step - loss: 5.4814e-04 - accuracy: 1.0000 - val_loss: 1.9438 - val_accuracy: 0.5600\n",
            "Epoch 56/100\n",
            "18/18 [==============================] - 0s 25ms/step - loss: 5.3805e-04 - accuracy: 1.0000 - val_loss: 1.9491 - val_accuracy: 0.5600\n",
            "Epoch 57/100\n",
            "18/18 [==============================] - 0s 24ms/step - loss: 5.2623e-04 - accuracy: 1.0000 - val_loss: 1.9489 - val_accuracy: 0.5600\n",
            "Epoch 58/100\n",
            "18/18 [==============================] - 0s 23ms/step - loss: 5.1586e-04 - accuracy: 1.0000 - val_loss: 1.9512 - val_accuracy: 0.5600\n",
            "Epoch 59/100\n",
            "18/18 [==============================] - 0s 23ms/step - loss: 5.0632e-04 - accuracy: 1.0000 - val_loss: 1.9520 - val_accuracy: 0.5600\n",
            "Epoch 60/100\n",
            "18/18 [==============================] - 0s 23ms/step - loss: 4.9760e-04 - accuracy: 1.0000 - val_loss: 1.9586 - val_accuracy: 0.5600\n",
            "Epoch 61/100\n",
            "18/18 [==============================] - 0s 23ms/step - loss: 4.8771e-04 - accuracy: 1.0000 - val_loss: 1.9568 - val_accuracy: 0.5600\n",
            "Epoch 62/100\n",
            "18/18 [==============================] - 0s 24ms/step - loss: 4.7835e-04 - accuracy: 1.0000 - val_loss: 1.9607 - val_accuracy: 0.5600\n",
            "Epoch 63/100\n",
            "18/18 [==============================] - 0s 24ms/step - loss: 4.6966e-04 - accuracy: 1.0000 - val_loss: 1.9613 - val_accuracy: 0.5533\n",
            "Epoch 64/100\n",
            "18/18 [==============================] - 0s 23ms/step - loss: 4.6316e-04 - accuracy: 1.0000 - val_loss: 1.9679 - val_accuracy: 0.5600\n",
            "Epoch 65/100\n",
            "18/18 [==============================] - 0s 23ms/step - loss: 4.5441e-04 - accuracy: 1.0000 - val_loss: 1.9691 - val_accuracy: 0.5600\n",
            "Epoch 66/100\n",
            "18/18 [==============================] - 0s 23ms/step - loss: 4.4737e-04 - accuracy: 1.0000 - val_loss: 1.9707 - val_accuracy: 0.5533\n",
            "Epoch 67/100\n",
            "18/18 [==============================] - 0s 23ms/step - loss: 4.4127e-04 - accuracy: 1.0000 - val_loss: 1.9791 - val_accuracy: 0.5600\n",
            "Epoch 68/100\n",
            "18/18 [==============================] - 0s 25ms/step - loss: 4.3395e-04 - accuracy: 1.0000 - val_loss: 1.9789 - val_accuracy: 0.5600\n",
            "Epoch 69/100\n",
            "18/18 [==============================] - 0s 23ms/step - loss: 4.2678e-04 - accuracy: 1.0000 - val_loss: 1.9792 - val_accuracy: 0.5600\n",
            "Epoch 70/100\n",
            "18/18 [==============================] - 0s 24ms/step - loss: 4.1777e-04 - accuracy: 1.0000 - val_loss: 1.9814 - val_accuracy: 0.5533\n",
            "Epoch 71/100\n",
            "18/18 [==============================] - 0s 24ms/step - loss: 4.1179e-04 - accuracy: 1.0000 - val_loss: 1.9814 - val_accuracy: 0.5600\n",
            "Epoch 72/100\n",
            "18/18 [==============================] - 0s 24ms/step - loss: 4.0334e-04 - accuracy: 1.0000 - val_loss: 1.9911 - val_accuracy: 0.5600\n",
            "Epoch 73/100\n",
            "18/18 [==============================] - 0s 23ms/step - loss: 3.9922e-04 - accuracy: 1.0000 - val_loss: 1.9893 - val_accuracy: 0.5667\n",
            "Epoch 74/100\n",
            "18/18 [==============================] - 0s 25ms/step - loss: 3.9306e-04 - accuracy: 1.0000 - val_loss: 1.9918 - val_accuracy: 0.5533\n",
            "Epoch 75/100\n",
            "18/18 [==============================] - 0s 24ms/step - loss: 3.8770e-04 - accuracy: 1.0000 - val_loss: 1.9926 - val_accuracy: 0.5600\n",
            "Epoch 76/100\n",
            "18/18 [==============================] - 0s 23ms/step - loss: 3.7996e-04 - accuracy: 1.0000 - val_loss: 1.9949 - val_accuracy: 0.5600\n",
            "Epoch 77/100\n",
            "18/18 [==============================] - 0s 24ms/step - loss: 3.7569e-04 - accuracy: 1.0000 - val_loss: 1.9953 - val_accuracy: 0.5533\n",
            "Epoch 78/100\n",
            "18/18 [==============================] - 0s 23ms/step - loss: 3.7105e-04 - accuracy: 1.0000 - val_loss: 1.9988 - val_accuracy: 0.5600\n",
            "Epoch 79/100\n",
            "18/18 [==============================] - 0s 25ms/step - loss: 3.6416e-04 - accuracy: 1.0000 - val_loss: 2.0001 - val_accuracy: 0.5600\n",
            "Epoch 80/100\n",
            "18/18 [==============================] - 0s 24ms/step - loss: 3.6015e-04 - accuracy: 1.0000 - val_loss: 2.0021 - val_accuracy: 0.5533\n",
            "Epoch 81/100\n",
            "18/18 [==============================] - 0s 24ms/step - loss: 3.5427e-04 - accuracy: 1.0000 - val_loss: 2.0057 - val_accuracy: 0.5600\n",
            "Epoch 82/100\n",
            "18/18 [==============================] - 0s 25ms/step - loss: 3.5065e-04 - accuracy: 1.0000 - val_loss: 2.0084 - val_accuracy: 0.5600\n",
            "Epoch 83/100\n",
            "18/18 [==============================] - 0s 23ms/step - loss: 3.4632e-04 - accuracy: 1.0000 - val_loss: 2.0093 - val_accuracy: 0.5467\n",
            "Epoch 84/100\n",
            "18/18 [==============================] - 0s 25ms/step - loss: 3.4161e-04 - accuracy: 1.0000 - val_loss: 2.0126 - val_accuracy: 0.5600\n",
            "Epoch 85/100\n",
            "18/18 [==============================] - 0s 23ms/step - loss: 3.3678e-04 - accuracy: 1.0000 - val_loss: 2.0140 - val_accuracy: 0.5600\n",
            "Epoch 86/100\n",
            "18/18 [==============================] - 0s 23ms/step - loss: 3.3370e-04 - accuracy: 1.0000 - val_loss: 2.0146 - val_accuracy: 0.5467\n",
            "Epoch 87/100\n",
            "18/18 [==============================] - 0s 24ms/step - loss: 3.2831e-04 - accuracy: 1.0000 - val_loss: 2.0205 - val_accuracy: 0.5600\n",
            "Epoch 88/100\n",
            "18/18 [==============================] - 0s 24ms/step - loss: 3.2391e-04 - accuracy: 1.0000 - val_loss: 2.0219 - val_accuracy: 0.5600\n",
            "Epoch 89/100\n",
            "18/18 [==============================] - 0s 25ms/step - loss: 3.1984e-04 - accuracy: 1.0000 - val_loss: 2.0197 - val_accuracy: 0.5533\n",
            "Epoch 90/100\n",
            "18/18 [==============================] - 0s 23ms/step - loss: 3.1636e-04 - accuracy: 1.0000 - val_loss: 2.0216 - val_accuracy: 0.5600\n",
            "Epoch 91/100\n",
            "18/18 [==============================] - 0s 25ms/step - loss: 3.1245e-04 - accuracy: 1.0000 - val_loss: 2.0241 - val_accuracy: 0.5667\n",
            "Epoch 92/100\n",
            "18/18 [==============================] - 0s 24ms/step - loss: 3.0881e-04 - accuracy: 1.0000 - val_loss: 2.0289 - val_accuracy: 0.5600\n",
            "Epoch 93/100\n",
            "18/18 [==============================] - 0s 23ms/step - loss: 3.0473e-04 - accuracy: 1.0000 - val_loss: 2.0279 - val_accuracy: 0.5600\n",
            "Epoch 94/100\n",
            "18/18 [==============================] - 0s 23ms/step - loss: 3.0070e-04 - accuracy: 1.0000 - val_loss: 2.0293 - val_accuracy: 0.5600\n",
            "Epoch 95/100\n",
            "18/18 [==============================] - 0s 23ms/step - loss: 2.9726e-04 - accuracy: 1.0000 - val_loss: 2.0331 - val_accuracy: 0.5600\n",
            "Epoch 96/100\n",
            "18/18 [==============================] - 1s 31ms/step - loss: 2.9377e-04 - accuracy: 1.0000 - val_loss: 2.0374 - val_accuracy: 0.5600\n",
            "Epoch 97/100\n",
            "18/18 [==============================] - 1s 40ms/step - loss: 2.9095e-04 - accuracy: 1.0000 - val_loss: 2.0382 - val_accuracy: 0.5600\n",
            "Epoch 98/100\n",
            "18/18 [==============================] - 1s 40ms/step - loss: 2.8709e-04 - accuracy: 1.0000 - val_loss: 2.0404 - val_accuracy: 0.5600\n",
            "Epoch 99/100\n",
            "18/18 [==============================] - 0s 24ms/step - loss: 2.8400e-04 - accuracy: 1.0000 - val_loss: 2.0396 - val_accuracy: 0.5600\n",
            "Epoch 100/100\n",
            "18/18 [==============================] - 0s 25ms/step - loss: 2.8151e-04 - accuracy: 1.0000 - val_loss: 2.0399 - val_accuracy: 0.5667\n"
          ]
        }
      ]
    },
    {
      "cell_type": "code",
      "source": [
        "\n",
        "from keras.applications.vgg16 import VGG16\n",
        "from keras.models import Model\n",
        "model = VGG16(include_top=False,input_shape=(100,100,3))\n",
        "for layers in model.layers:\n",
        "  layers.trainable = False\n",
        "flat1 = Flatten()(model.layers[-1].output)\n",
        "class1 = Dense(128,activation='relu',kernel_initializer='he_uniform')(flat1)\n",
        "output = Dense(10,activation='softmax')(class1)\n",
        "model = Model(inputs=model.inputs,outputs=output)\n",
        "opt = SGD(lr = 0.01, momentum = 0.9)\n",
        "model.compile(optimizer=opt, loss = 'categorical_crossentropy',metrics=['accuracy'])\n",
        "history = model.fit(photos,labels,epochs=100, batch_size=32, validation_data=(photos1,labels1),verbose=1)"
      ],
      "metadata": {
        "colab": {
          "base_uri": "https://localhost:8080/"
        },
        "id": "iZ9YWAYD32z-",
        "outputId": "9e08c5ea-9d67-44f3-d5f2-f22e1dd5f171"
      },
      "execution_count": 39,
      "outputs": [
        {
          "output_type": "stream",
          "name": "stdout",
          "text": [
            "Epoch 1/100\n"
          ]
        },
        {
          "output_type": "stream",
          "name": "stderr",
          "text": [
            "/usr/local/lib/python3.7/dist-packages/keras/optimizer_v2/gradient_descent.py:102: UserWarning: The `lr` argument is deprecated, use `learning_rate` instead.\n",
            "  super(SGD, self).__init__(name, **kwargs)\n"
          ]
        },
        {
          "output_type": "stream",
          "name": "stdout",
          "text": [
            "18/18 [==============================] - 3s 144ms/step - loss: 2.3042 - accuracy: 0.1891 - val_loss: 1.7151 - val_accuracy: 0.4267\n",
            "Epoch 2/100\n",
            "18/18 [==============================] - 2s 128ms/step - loss: 1.6686 - accuracy: 0.4018 - val_loss: 1.5733 - val_accuracy: 0.3667\n",
            "Epoch 3/100\n",
            "18/18 [==============================] - 2s 128ms/step - loss: 1.4134 - accuracy: 0.5018 - val_loss: 1.5227 - val_accuracy: 0.4800\n",
            "Epoch 4/100\n",
            "18/18 [==============================] - 2s 127ms/step - loss: 1.1403 - accuracy: 0.5909 - val_loss: 1.5277 - val_accuracy: 0.4800\n",
            "Epoch 5/100\n",
            "18/18 [==============================] - 2s 128ms/step - loss: 1.0349 - accuracy: 0.6364 - val_loss: 1.3786 - val_accuracy: 0.5267\n",
            "Epoch 6/100\n",
            "18/18 [==============================] - 2s 128ms/step - loss: 0.9780 - accuracy: 0.6345 - val_loss: 1.2886 - val_accuracy: 0.5933\n",
            "Epoch 7/100\n",
            "18/18 [==============================] - 2s 127ms/step - loss: 0.9190 - accuracy: 0.6673 - val_loss: 1.1025 - val_accuracy: 0.6000\n",
            "Epoch 8/100\n",
            "18/18 [==============================] - 2s 128ms/step - loss: 0.5564 - accuracy: 0.8145 - val_loss: 1.3937 - val_accuracy: 0.5667\n",
            "Epoch 9/100\n",
            "18/18 [==============================] - 2s 129ms/step - loss: 0.7131 - accuracy: 0.7655 - val_loss: 1.1091 - val_accuracy: 0.6267\n",
            "Epoch 10/100\n",
            "18/18 [==============================] - 2s 128ms/step - loss: 0.5227 - accuracy: 0.8018 - val_loss: 1.4772 - val_accuracy: 0.5533\n",
            "Epoch 11/100\n",
            "18/18 [==============================] - 2s 129ms/step - loss: 0.7382 - accuracy: 0.7527 - val_loss: 1.2295 - val_accuracy: 0.6400\n",
            "Epoch 12/100\n",
            "18/18 [==============================] - 2s 129ms/step - loss: 0.5830 - accuracy: 0.8073 - val_loss: 1.7526 - val_accuracy: 0.5600\n",
            "Epoch 13/100\n",
            "18/18 [==============================] - 2s 129ms/step - loss: 0.4088 - accuracy: 0.8655 - val_loss: 1.1946 - val_accuracy: 0.6467\n",
            "Epoch 14/100\n",
            "18/18 [==============================] - 2s 129ms/step - loss: 0.2329 - accuracy: 0.9145 - val_loss: 1.3154 - val_accuracy: 0.6267\n",
            "Epoch 15/100\n",
            "18/18 [==============================] - 2s 129ms/step - loss: 0.2734 - accuracy: 0.9000 - val_loss: 1.1611 - val_accuracy: 0.6267\n",
            "Epoch 16/100\n",
            "18/18 [==============================] - 2s 129ms/step - loss: 0.2254 - accuracy: 0.9255 - val_loss: 0.9430 - val_accuracy: 0.7267\n",
            "Epoch 17/100\n",
            "18/18 [==============================] - 2s 129ms/step - loss: 0.1822 - accuracy: 0.9382 - val_loss: 1.1850 - val_accuracy: 0.6667\n",
            "Epoch 18/100\n",
            "18/18 [==============================] - 2s 128ms/step - loss: 0.1677 - accuracy: 0.9473 - val_loss: 1.4140 - val_accuracy: 0.6533\n",
            "Epoch 19/100\n",
            "18/18 [==============================] - 2s 130ms/step - loss: 0.1177 - accuracy: 0.9618 - val_loss: 0.9797 - val_accuracy: 0.7133\n",
            "Epoch 20/100\n",
            "18/18 [==============================] - 2s 129ms/step - loss: 0.0551 - accuracy: 0.9909 - val_loss: 1.1247 - val_accuracy: 0.7133\n",
            "Epoch 21/100\n",
            "18/18 [==============================] - 2s 129ms/step - loss: 0.0368 - accuracy: 0.9945 - val_loss: 0.9549 - val_accuracy: 0.7267\n",
            "Epoch 22/100\n",
            "18/18 [==============================] - 2s 129ms/step - loss: 0.0186 - accuracy: 1.0000 - val_loss: 1.0279 - val_accuracy: 0.7267\n",
            "Epoch 23/100\n",
            "18/18 [==============================] - 2s 130ms/step - loss: 0.0150 - accuracy: 1.0000 - val_loss: 0.9392 - val_accuracy: 0.7000\n",
            "Epoch 24/100\n",
            "18/18 [==============================] - 2s 129ms/step - loss: 0.0127 - accuracy: 1.0000 - val_loss: 0.9331 - val_accuracy: 0.6933\n",
            "Epoch 25/100\n",
            "18/18 [==============================] - 2s 130ms/step - loss: 0.0095 - accuracy: 1.0000 - val_loss: 0.9563 - val_accuracy: 0.7200\n",
            "Epoch 26/100\n",
            "18/18 [==============================] - 2s 130ms/step - loss: 0.0094 - accuracy: 1.0000 - val_loss: 0.9409 - val_accuracy: 0.7200\n",
            "Epoch 27/100\n",
            "18/18 [==============================] - 2s 129ms/step - loss: 0.0086 - accuracy: 1.0000 - val_loss: 0.9471 - val_accuracy: 0.7200\n",
            "Epoch 28/100\n",
            "18/18 [==============================] - 2s 130ms/step - loss: 0.0077 - accuracy: 1.0000 - val_loss: 0.9826 - val_accuracy: 0.7133\n",
            "Epoch 29/100\n",
            "18/18 [==============================] - 2s 130ms/step - loss: 0.0073 - accuracy: 1.0000 - val_loss: 0.9461 - val_accuracy: 0.7267\n",
            "Epoch 30/100\n",
            "18/18 [==============================] - 2s 133ms/step - loss: 0.0065 - accuracy: 1.0000 - val_loss: 0.9722 - val_accuracy: 0.7267\n",
            "Epoch 31/100\n",
            "18/18 [==============================] - 2s 129ms/step - loss: 0.0063 - accuracy: 1.0000 - val_loss: 0.9708 - val_accuracy: 0.7267\n",
            "Epoch 32/100\n",
            "18/18 [==============================] - 2s 129ms/step - loss: 0.0062 - accuracy: 1.0000 - val_loss: 0.9652 - val_accuracy: 0.7133\n",
            "Epoch 33/100\n",
            "18/18 [==============================] - 2s 129ms/step - loss: 0.0058 - accuracy: 1.0000 - val_loss: 0.9804 - val_accuracy: 0.7133\n",
            "Epoch 34/100\n",
            "18/18 [==============================] - 2s 130ms/step - loss: 0.0056 - accuracy: 1.0000 - val_loss: 0.9716 - val_accuracy: 0.7267\n",
            "Epoch 35/100\n",
            "18/18 [==============================] - 2s 130ms/step - loss: 0.0052 - accuracy: 1.0000 - val_loss: 0.9884 - val_accuracy: 0.7267\n",
            "Epoch 36/100\n",
            "18/18 [==============================] - 2s 130ms/step - loss: 0.0052 - accuracy: 1.0000 - val_loss: 0.9840 - val_accuracy: 0.7267\n",
            "Epoch 37/100\n",
            "18/18 [==============================] - 2s 130ms/step - loss: 0.0049 - accuracy: 1.0000 - val_loss: 0.9921 - val_accuracy: 0.7267\n",
            "Epoch 38/100\n",
            "18/18 [==============================] - 2s 130ms/step - loss: 0.0047 - accuracy: 1.0000 - val_loss: 0.9861 - val_accuracy: 0.7267\n",
            "Epoch 39/100\n",
            "18/18 [==============================] - 2s 130ms/step - loss: 0.0045 - accuracy: 1.0000 - val_loss: 0.9887 - val_accuracy: 0.7267\n",
            "Epoch 40/100\n",
            "18/18 [==============================] - 2s 130ms/step - loss: 0.0043 - accuracy: 1.0000 - val_loss: 0.9895 - val_accuracy: 0.7333\n",
            "Epoch 41/100\n",
            "18/18 [==============================] - 2s 129ms/step - loss: 0.0041 - accuracy: 1.0000 - val_loss: 0.9959 - val_accuracy: 0.7267\n",
            "Epoch 42/100\n",
            "18/18 [==============================] - 2s 130ms/step - loss: 0.0041 - accuracy: 1.0000 - val_loss: 0.9989 - val_accuracy: 0.7200\n",
            "Epoch 43/100\n",
            "18/18 [==============================] - 2s 130ms/step - loss: 0.0040 - accuracy: 1.0000 - val_loss: 1.0062 - val_accuracy: 0.7267\n",
            "Epoch 44/100\n",
            "18/18 [==============================] - 2s 129ms/step - loss: 0.0038 - accuracy: 1.0000 - val_loss: 1.0097 - val_accuracy: 0.7200\n",
            "Epoch 45/100\n",
            "18/18 [==============================] - 2s 130ms/step - loss: 0.0036 - accuracy: 1.0000 - val_loss: 1.0063 - val_accuracy: 0.7267\n",
            "Epoch 46/100\n",
            "18/18 [==============================] - 2s 129ms/step - loss: 0.0035 - accuracy: 1.0000 - val_loss: 1.0186 - val_accuracy: 0.7267\n",
            "Epoch 47/100\n",
            "18/18 [==============================] - 2s 138ms/step - loss: 0.0034 - accuracy: 1.0000 - val_loss: 1.0205 - val_accuracy: 0.7200\n",
            "Epoch 48/100\n",
            "18/18 [==============================] - 2s 130ms/step - loss: 0.0033 - accuracy: 1.0000 - val_loss: 1.0191 - val_accuracy: 0.7200\n",
            "Epoch 49/100\n",
            "18/18 [==============================] - 2s 130ms/step - loss: 0.0032 - accuracy: 1.0000 - val_loss: 1.0238 - val_accuracy: 0.7200\n",
            "Epoch 50/100\n",
            "18/18 [==============================] - 2s 129ms/step - loss: 0.0032 - accuracy: 1.0000 - val_loss: 1.0244 - val_accuracy: 0.7267\n",
            "Epoch 51/100\n",
            "18/18 [==============================] - 2s 129ms/step - loss: 0.0032 - accuracy: 1.0000 - val_loss: 1.0304 - val_accuracy: 0.7200\n",
            "Epoch 52/100\n",
            "18/18 [==============================] - 2s 128ms/step - loss: 0.0030 - accuracy: 1.0000 - val_loss: 1.0309 - val_accuracy: 0.7267\n",
            "Epoch 53/100\n",
            "18/18 [==============================] - 2s 129ms/step - loss: 0.0029 - accuracy: 1.0000 - val_loss: 1.0324 - val_accuracy: 0.7200\n",
            "Epoch 54/100\n",
            "18/18 [==============================] - 2s 129ms/step - loss: 0.0029 - accuracy: 1.0000 - val_loss: 1.0345 - val_accuracy: 0.7200\n",
            "Epoch 55/100\n",
            "18/18 [==============================] - 2s 128ms/step - loss: 0.0029 - accuracy: 1.0000 - val_loss: 1.0372 - val_accuracy: 0.7200\n",
            "Epoch 56/100\n",
            "18/18 [==============================] - 2s 128ms/step - loss: 0.0027 - accuracy: 1.0000 - val_loss: 1.0392 - val_accuracy: 0.7267\n",
            "Epoch 57/100\n",
            "18/18 [==============================] - 2s 128ms/step - loss: 0.0026 - accuracy: 1.0000 - val_loss: 1.0445 - val_accuracy: 0.7200\n",
            "Epoch 58/100\n",
            "18/18 [==============================] - 2s 128ms/step - loss: 0.0026 - accuracy: 1.0000 - val_loss: 1.0428 - val_accuracy: 0.7200\n",
            "Epoch 59/100\n",
            "18/18 [==============================] - 2s 129ms/step - loss: 0.0026 - accuracy: 1.0000 - val_loss: 1.0433 - val_accuracy: 0.7200\n",
            "Epoch 60/100\n",
            "18/18 [==============================] - 2s 128ms/step - loss: 0.0025 - accuracy: 1.0000 - val_loss: 1.0475 - val_accuracy: 0.7267\n",
            "Epoch 61/100\n",
            "18/18 [==============================] - 2s 128ms/step - loss: 0.0026 - accuracy: 1.0000 - val_loss: 1.0544 - val_accuracy: 0.7267\n",
            "Epoch 62/100\n",
            "18/18 [==============================] - 2s 128ms/step - loss: 0.0024 - accuracy: 1.0000 - val_loss: 1.0498 - val_accuracy: 0.7200\n",
            "Epoch 63/100\n",
            "18/18 [==============================] - 2s 127ms/step - loss: 0.0024 - accuracy: 1.0000 - val_loss: 1.0520 - val_accuracy: 0.7200\n",
            "Epoch 64/100\n",
            "18/18 [==============================] - 2s 128ms/step - loss: 0.0023 - accuracy: 1.0000 - val_loss: 1.0532 - val_accuracy: 0.7200\n",
            "Epoch 65/100\n",
            "18/18 [==============================] - 2s 129ms/step - loss: 0.0023 - accuracy: 1.0000 - val_loss: 1.0533 - val_accuracy: 0.7267\n",
            "Epoch 66/100\n",
            "18/18 [==============================] - 2s 128ms/step - loss: 0.0022 - accuracy: 1.0000 - val_loss: 1.0550 - val_accuracy: 0.7200\n",
            "Epoch 67/100\n",
            "18/18 [==============================] - 2s 127ms/step - loss: 0.0022 - accuracy: 1.0000 - val_loss: 1.0608 - val_accuracy: 0.7200\n",
            "Epoch 68/100\n",
            "18/18 [==============================] - 2s 129ms/step - loss: 0.0022 - accuracy: 1.0000 - val_loss: 1.0607 - val_accuracy: 0.7200\n",
            "Epoch 69/100\n",
            "18/18 [==============================] - 2s 129ms/step - loss: 0.0021 - accuracy: 1.0000 - val_loss: 1.0616 - val_accuracy: 0.7200\n",
            "Epoch 70/100\n",
            "18/18 [==============================] - 2s 130ms/step - loss: 0.0021 - accuracy: 1.0000 - val_loss: 1.0619 - val_accuracy: 0.7200\n",
            "Epoch 71/100\n",
            "18/18 [==============================] - 2s 130ms/step - loss: 0.0021 - accuracy: 1.0000 - val_loss: 1.0690 - val_accuracy: 0.7200\n",
            "Epoch 72/100\n",
            "18/18 [==============================] - 2s 130ms/step - loss: 0.0020 - accuracy: 1.0000 - val_loss: 1.0597 - val_accuracy: 0.7200\n",
            "Epoch 73/100\n",
            "18/18 [==============================] - 2s 129ms/step - loss: 0.0020 - accuracy: 1.0000 - val_loss: 1.0685 - val_accuracy: 0.7200\n",
            "Epoch 74/100\n",
            "18/18 [==============================] - 2s 131ms/step - loss: 0.0020 - accuracy: 1.0000 - val_loss: 1.0641 - val_accuracy: 0.7200\n",
            "Epoch 75/100\n",
            "18/18 [==============================] - 2s 129ms/step - loss: 0.0019 - accuracy: 1.0000 - val_loss: 1.0724 - val_accuracy: 0.7200\n",
            "Epoch 76/100\n",
            "18/18 [==============================] - 2s 130ms/step - loss: 0.0019 - accuracy: 1.0000 - val_loss: 1.0694 - val_accuracy: 0.7200\n",
            "Epoch 77/100\n",
            "18/18 [==============================] - 2s 130ms/step - loss: 0.0019 - accuracy: 1.0000 - val_loss: 1.0765 - val_accuracy: 0.7200\n",
            "Epoch 78/100\n",
            "18/18 [==============================] - 2s 130ms/step - loss: 0.0018 - accuracy: 1.0000 - val_loss: 1.0722 - val_accuracy: 0.7200\n",
            "Epoch 79/100\n",
            "18/18 [==============================] - 2s 130ms/step - loss: 0.0018 - accuracy: 1.0000 - val_loss: 1.0710 - val_accuracy: 0.7200\n",
            "Epoch 80/100\n",
            "18/18 [==============================] - 2s 129ms/step - loss: 0.0018 - accuracy: 1.0000 - val_loss: 1.0797 - val_accuracy: 0.7200\n",
            "Epoch 81/100\n",
            "18/18 [==============================] - 2s 130ms/step - loss: 0.0018 - accuracy: 1.0000 - val_loss: 1.0749 - val_accuracy: 0.7200\n",
            "Epoch 82/100\n",
            "18/18 [==============================] - 2s 139ms/step - loss: 0.0017 - accuracy: 1.0000 - val_loss: 1.0833 - val_accuracy: 0.7200\n",
            "Epoch 83/100\n",
            "18/18 [==============================] - 2s 130ms/step - loss: 0.0017 - accuracy: 1.0000 - val_loss: 1.0767 - val_accuracy: 0.7200\n",
            "Epoch 84/100\n",
            "18/18 [==============================] - 2s 131ms/step - loss: 0.0017 - accuracy: 1.0000 - val_loss: 1.0805 - val_accuracy: 0.7200\n",
            "Epoch 85/100\n",
            "18/18 [==============================] - 2s 131ms/step - loss: 0.0017 - accuracy: 1.0000 - val_loss: 1.0806 - val_accuracy: 0.7200\n",
            "Epoch 86/100\n",
            "18/18 [==============================] - 2s 130ms/step - loss: 0.0017 - accuracy: 1.0000 - val_loss: 1.0878 - val_accuracy: 0.7200\n",
            "Epoch 87/100\n",
            "18/18 [==============================] - 2s 130ms/step - loss: 0.0016 - accuracy: 1.0000 - val_loss: 1.0835 - val_accuracy: 0.7200\n",
            "Epoch 88/100\n",
            "18/18 [==============================] - 2s 131ms/step - loss: 0.0016 - accuracy: 1.0000 - val_loss: 1.0867 - val_accuracy: 0.7200\n",
            "Epoch 89/100\n",
            "18/18 [==============================] - 2s 132ms/step - loss: 0.0016 - accuracy: 1.0000 - val_loss: 1.0895 - val_accuracy: 0.7200\n",
            "Epoch 90/100\n",
            "18/18 [==============================] - 2s 131ms/step - loss: 0.0016 - accuracy: 1.0000 - val_loss: 1.0878 - val_accuracy: 0.7200\n",
            "Epoch 91/100\n",
            "18/18 [==============================] - 2s 130ms/step - loss: 0.0015 - accuracy: 1.0000 - val_loss: 1.0861 - val_accuracy: 0.7200\n",
            "Epoch 92/100\n",
            "18/18 [==============================] - 2s 131ms/step - loss: 0.0015 - accuracy: 1.0000 - val_loss: 1.0900 - val_accuracy: 0.7200\n",
            "Epoch 93/100\n",
            "18/18 [==============================] - 2s 131ms/step - loss: 0.0015 - accuracy: 1.0000 - val_loss: 1.0936 - val_accuracy: 0.7200\n",
            "Epoch 94/100\n",
            "18/18 [==============================] - 2s 130ms/step - loss: 0.0015 - accuracy: 1.0000 - val_loss: 1.0951 - val_accuracy: 0.7200\n",
            "Epoch 95/100\n",
            "18/18 [==============================] - 2s 132ms/step - loss: 0.0015 - accuracy: 1.0000 - val_loss: 1.0914 - val_accuracy: 0.7200\n",
            "Epoch 96/100\n",
            "18/18 [==============================] - 2s 131ms/step - loss: 0.0014 - accuracy: 1.0000 - val_loss: 1.0954 - val_accuracy: 0.7200\n",
            "Epoch 97/100\n",
            "18/18 [==============================] - 2s 130ms/step - loss: 0.0014 - accuracy: 1.0000 - val_loss: 1.0966 - val_accuracy: 0.7200\n",
            "Epoch 98/100\n",
            "18/18 [==============================] - 2s 130ms/step - loss: 0.0014 - accuracy: 1.0000 - val_loss: 1.0997 - val_accuracy: 0.7200\n",
            "Epoch 99/100\n",
            "18/18 [==============================] - 2s 130ms/step - loss: 0.0014 - accuracy: 1.0000 - val_loss: 1.1002 - val_accuracy: 0.7200\n",
            "Epoch 100/100\n",
            "18/18 [==============================] - 2s 130ms/step - loss: 0.0014 - accuracy: 1.0000 - val_loss: 1.1023 - val_accuracy: 0.7200\n"
          ]
        }
      ]
    },
    {
      "cell_type": "code",
      "source": [
        "# Độ chính xác\n",
        "score = model.evaluate (photos1,labels1,verbose=0)\n",
        "print('Test loss:',score[0])\n",
        "print('Test accuracy:',score[1])"
      ],
      "metadata": {
        "colab": {
          "base_uri": "https://localhost:8080/"
        },
        "id": "Gyh4YeBPGm6Q",
        "outputId": "9a67be67-6245-40b7-c901-dec3af6b2846"
      },
      "execution_count": 40,
      "outputs": [
        {
          "output_type": "stream",
          "name": "stdout",
          "text": [
            "Test loss: 1.1023422479629517\n",
            "Test accuracy: 0.7200000286102295\n"
          ]
        }
      ]
    },
    {
      "cell_type": "code",
      "source": [
        "import matplotlib.pyplot as plt\n",
        "plt.plot(history.history['accuracy'])\n",
        "plt.plot(history.history['val_accuracy'])\n",
        "plt.title('Mode accuracy')\n",
        "plt.ylabel('accuracy')\n",
        "plt.xlabel('epoch')\n",
        "plt.legend(['Train','Validation'],loc = 'upper left')\n",
        "plt.show()"
      ],
      "metadata": {
        "colab": {
          "base_uri": "https://localhost:8080/",
          "height": 295
        },
        "id": "b35e8es4HCgR",
        "outputId": "7491a2a3-39a2-45f7-fcf3-2a619f515b75"
      },
      "execution_count": 42,
      "outputs": [
        {
          "output_type": "display_data",
          "data": {
            "text/plain": [
              "<Figure size 432x288 with 1 Axes>"
            ],
            "image/png": "[encoded data removed]"
          },
          "metadata": {
            "needs_background": "light"
          }
        }
      ]
    },
    {
      "cell_type": "code",
      "source": [
        "#Kiểm tra nhận dạng\n",
        "from keras.preprocessing.image import load_img\n",
        "from keras.preprocessing.image import img_to_array\n",
        "from keras.preprocessing.image import array_to_img\n",
        "import matplotlib.pyplot as plt\n",
        "import numpy as np\n",
        "from google.colab.patches import cv2_imshow\n",
        "folder = '/content/drive/MyDrive/AI/Test10MonAn_1/'\n",
        "filename = folder+'BoLaLot.01.jpg'\n",
        "img = load_img(filename, target_size=(100,100))\n",
        "img = img_to_array(img)\n",
        "cv2_imshow(img)\n",
        "img = img.reshape(1,100,100,3)\n",
        "img = img.astype('float32')\n",
        "img/=255\n",
        "u= np.argmax(model.predict(img))\n",
        "nhandang = ['Phở gà','Bánh cuốn','Bánh xèo','Bò Lá Lốt','Bún bò','Cơm Tấm','Gà','Mì xào','Mực Riêm','Thịt Kho Tàu']\n",
        "print(nhandang[u])"
      ],
      "metadata": {
        "colab": {
          "base_uri": "https://localhost:8080/",
          "height": 134
        },
        "id": "u0vYtvkQt___",
        "outputId": "6130e8d3-b988-42ec-cf16-70ca0d771b8e"
      },
      "execution_count": 48,
      "outputs": [
        {
          "output_type": "display_data",
          "data": {
            "text/plain": [
              "<PIL.Image.Image image mode=RGB size=100x100 at 0x7FD005FB8A90>"
            ],
            "image/png": "[encoded data removed]"
          },
          "metadata": {}
        },
        {
          "output_type": "stream",
          "name": "stdout",
          "text": [
            "Bò Lá Lốt\n"
          ]
        }
      ]
    },
    {
      "cell_type": "code",
      "source": [
        "#Kiểm tra nhận dạng\n",
        "import cv2\n",
        "import numpy as np\n",
        "tuan = cv2.imread('Tuan.jpg')\n",
        "tuan = cv2.resize(tuan,(150,150))\n",
        "thinh = cv2.imread('Thinh.jpg')\n",
        "thinh = cv2.resize(thinh,(150,150))\n",
        "hung = cv2.imread('Hung.jpg')\n",
        "hung = cv2.resize(hung,(150,150))\n",
        "L = [tuan,thinh,hung]\n",
        "NhanDang =  ['Tuấn','Thịnh','Hưng']\n",
        "img = asarray(L)\n",
        "img.shape\n",
        "img = img.reshape(3,67500)\n",
        "img = img.astype('float32')\n",
        "img/=255\n",
        "y_pred = model.predict(img)\n",
        "for i in range (3):\n",
        "  plt.figure(figsize=(1.5,1.5))\n",
        "  plt.imshow(img[i].reshape(150,150,3))\n",
        "  plt.show()\n",
        "  print('Kết quả nhận dạng: ',NhanDang[np.argmax(y_pred[i])])"
      ],
      "metadata": {
        "id": "_ZjnRbioMCxj"
      },
      "execution_count": null,
      "outputs": []
    }
  ]
}